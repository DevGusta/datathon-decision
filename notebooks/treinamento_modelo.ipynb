{
 "cells": [
  {
   "cell_type": "markdown",
   "id": "bb3b9d82",
   "metadata": {},
   "source": [
    "# Treinamento do Modelo de Matching"
   ]
  },
  {
   "cell_type": "markdown",
   "id": "994cc7c0",
   "metadata": {},
   "source": [
    "Este notebook demonstra um exemplo de treinamento de um modelo simples de\n",
    "\"match\" entre candidatos e vagas. Os dados sintéticos estão em `data_source/`.\n",
    "Utilizamos atributos do candidato **e** algumas informações da vaga para\n",
    "calcular a compatibilidade."
   ]
  },
  {
   "cell_type": "code",
   "id": "820f835c",
   "metadata": {
    "execution": {
     "iopub.execute_input": "2025-07-24T01:03:35.864769Z",
     "iopub.status.busy": "2025-07-24T01:03:35.864580Z",
     "iopub.status.idle": "2025-07-24T01:03:36.824911Z",
     "shell.execute_reply": "2025-07-24T01:03:36.824236Z"
    },
    "ExecuteTime": {
     "end_time": "2025-07-24T03:36:22.395524Z",
     "start_time": "2025-07-24T03:36:22.390080Z"
    }
   },
   "source": [
    "import json\n",
    "from pathlib import Path\n",
    "\n",
    "import joblib\n",
    "import pandas as pd\n",
    "from sklearn.linear_model import LogisticRegression\n",
    "from sklearn.model_selection import train_test_split\n",
    "from sklearn.pipeline import Pipeline\n",
    "from sklearn.preprocessing import StandardScaler\n",
    "import sys, os\n",
    "sys.path.append(os.path.abspath('..'))\n",
    "from src.data_loader import parse_remuneracao\n",
    "\n",
    "DATA_DIR = Path('..') / 'data_source'\n",
    "MODEL_PATH = Path('..') / 'model.joblib'"
   ],
   "outputs": [],
   "execution_count": 42
  },
  {
   "cell_type": "markdown",
   "id": "a090dd76",
   "metadata": {},
   "source": [
    "## 1. Carregamento dos Dados"
   ]
  },
  {
   "cell_type": "code",
   "id": "7faa7194",
   "metadata": {
    "execution": {
     "iopub.execute_input": "2025-07-24T01:03:36.829465Z",
     "iopub.status.busy": "2025-07-24T01:03:36.829145Z",
     "iopub.status.idle": "2025-07-24T01:03:37.347362Z",
     "shell.execute_reply": "2025-07-24T01:03:37.346493Z"
    },
    "ExecuteTime": {
     "end_time": "2025-07-24T03:36:25.670097Z",
     "start_time": "2025-07-24T03:36:22.814346Z"
    }
   },
   "source": [
    "applicants_file = DATA_DIR / 'applicants.json'\n",
    "prospects_file = DATA_DIR / 'prospects.json'\n",
    "jobs_file = DATA_DIR / 'vagas.json'\n",
    "\n",
    "with open(applicants_file, 'r', encoding='utf-8') as f:\n",
    "    applicants_raw = json.load(f)\n",
    "\n",
    "with open(prospects_file, 'r', encoding='utf-8') as f:\n",
    "    prospects_raw = json.load(f)\n",
    "\n",
    "with open(jobs_file, 'r', encoding='utf-8') as f:\n",
    "    jobs_raw = json.load(f)"
   ],
   "outputs": [],
   "execution_count": 43
  },
  {
   "cell_type": "code",
   "id": "9f6ccae8",
   "metadata": {
    "execution": {
     "iopub.execute_input": "2025-07-24T01:03:37.350851Z",
     "iopub.status.busy": "2025-07-24T01:03:37.350616Z",
     "iopub.status.idle": "2025-07-24T01:03:37.381283Z",
     "shell.execute_reply": "2025-07-24T01:03:37.380600Z"
    },
    "ExecuteTime": {
     "end_time": "2025-07-24T03:36:25.935589Z",
     "start_time": "2025-07-24T03:36:25.674706Z"
    }
   },
   "source": [
    "# Extrai algumas informações básicas dos candidatos\n",
    "feats = []\n",
    "for code, data in applicants_raw.items():\n",
    "    basic = data.get('infos_basicas', {})\n",
    "    prof = data.get('informacoes_profissionais', {}) or {}\n",
    "\n",
    "    objective = basic.get('objetivo_profissional') or ''\n",
    "    title = prof.get('titulo_profissional') or ''\n",
    "    remun_raw = (prof.get('remuneracao') or '').strip()\n",
    "    remun_val = parse_remuneracao(remun_raw)\n",
    "\n",
    "    feats.append({\n",
    "        'codigo': str(code),\n",
    "        'objective_len': len(objective),\n",
    "        'title_len': len(title),\n",
    "        'remuneracao': remun_val,\n",
    "    })\n",
    "\n",
    "feat_df = pd.DataFrame(feats)"
   ],
   "outputs": [],
   "execution_count": 44
  },
  {
   "cell_type": "code",
   "id": "e76e1ee3",
   "metadata": {
    "execution": {
     "iopub.execute_input": "2025-07-24T01:03:37.383937Z",
     "iopub.status.busy": "2025-07-24T01:03:37.383743Z",
     "iopub.status.idle": "2025-07-24T01:03:37.461469Z",
     "shell.execute_reply": "2025-07-24T01:03:37.460355Z"
    },
    "ExecuteTime": {
     "end_time": "2025-07-24T03:36:26.040770Z",
     "start_time": "2025-07-24T03:36:25.984621Z"
    }
   },
   "source": [
    "# Constrói rótulos e mapeia cada candidato para a vaga associada (quando há)\n",
    "labels = {}\n",
    "job_map = {}\n",
    "for job_id, job in prospects_raw.items():\n",
    "    for cand in job.get('prospects', []):\n",
    "        code = str(cand.get('codigo'))\n",
    "        status = cand.get('situacao_candidado', '')\n",
    "        hired = 'Contratado' in status\n",
    "        labels[code] = labels.get(code, False) or hired\n",
    "        if code not in job_map or hired:\n",
    "            job_map[code] = str(job_id)\n",
    "\n",
    "label_df = pd.DataFrame({'codigo': list(labels.keys()),\n",
    "                         'match': [int(v) for v in labels.values()]})"
   ],
   "outputs": [],
   "execution_count": 45
  },
  {
   "cell_type": "code",
   "id": "b3770c55",
   "metadata": {
    "execution": {
     "iopub.execute_input": "2025-07-24T01:03:37.467077Z",
     "iopub.status.busy": "2025-07-24T01:03:37.466846Z",
     "iopub.status.idle": "2025-07-24T01:03:37.492383Z",
     "shell.execute_reply": "2025-07-24T01:03:37.491384Z"
    },
    "ExecuteTime": {
     "end_time": "2025-07-24T03:36:26.138810Z",
     "start_time": "2025-07-24T03:36:26.095607Z"
    }
   },
   "source": [
    "# Extrai informações das vagas usadas como features\n",
    "job_feats = []\n",
    "for job_id, info in jobs_raw.items():\n",
    "    perfil = info.get('perfil_vaga', {})\n",
    "    basics = info.get('informacoes_basicas', {})\n",
    "    job_feats.append({\n",
    "        'job_id': str(job_id),\n",
    "        'job_title_len': len(basics.get('titulo_vaga', '') or ''),\n",
    "        'job_level': perfil.get('nivel profissional', ''),\n",
    "        'job_english': perfil.get('nivel_ingles', ''),\n",
    "        'job_area_len': len(perfil.get('areas_atuacao', '') or '')\n",
    "    })\n",
    "\n",
    "jobs_df = pd.DataFrame(job_feats)\n",
    "level_map = {'Júnior': 1, 'Pleno': 2, 'Sênior': 3, 'Especialista': 4}\n",
    "english_map = {'Básico': 1, 'Intermediário': 2, 'Avançado': 3, 'Fluente': 4}\n",
    "jobs_df['job_level'] = jobs_df['job_level'].map(level_map).fillna(0)\n",
    "jobs_df['job_english'] = jobs_df['job_english'].map(english_map).fillna(0)"
   ],
   "outputs": [],
   "execution_count": 46
  },
  {
   "cell_type": "code",
   "id": "a40ea2bc",
   "metadata": {
    "execution": {
     "iopub.execute_input": "2025-07-24T01:03:37.494254Z",
     "iopub.status.busy": "2025-07-24T01:03:37.494069Z",
     "iopub.status.idle": "2025-07-24T01:03:37.517221Z",
     "shell.execute_reply": "2025-07-24T01:03:37.516621Z"
    },
    "ExecuteTime": {
     "end_time": "2025-07-24T03:36:26.250700Z",
     "start_time": "2025-07-24T03:36:26.188809Z"
    }
   },
   "source": [
    "# Combina todas as informações em um único dataframe\n",
    "feat_df['job_id'] = feat_df['codigo'].map(job_map)\n",
    "df = feat_df.merge(label_df, on='codigo', how='inner')\n",
    "df = df.merge(jobs_df, on='job_id', how='left')\n",
    "df = df.fillna(0)\n",
    "\n",
    "# Engenharia de algumas features simples\n",
    "df['objective_len_sq'] = df['objective_len'] ** 2\n",
    "df['title_remuneracao'] = df['title_len'] * df['remuneracao']\n",
    "df['title_job_diff'] = (df['title_len'] - df['job_title_len']).abs()\n",
    "\n",
    "X = df.drop(columns=['match', 'codigo', 'job_id'])\n",
    "y = df['match']"
   ],
   "outputs": [],
   "execution_count": 47
  },
  {
   "cell_type": "markdown",
   "id": "26978a3e",
   "metadata": {},
   "source": [
    "## 2. Treinamento do Modelo"
   ]
  },
  {
   "cell_type": "code",
   "id": "e8c5a381",
   "metadata": {
    "execution": {
     "iopub.execute_input": "2025-07-24T01:03:37.519479Z",
     "iopub.status.busy": "2025-07-24T01:03:37.519258Z",
     "iopub.status.idle": "2025-07-24T01:03:37.539238Z",
     "shell.execute_reply": "2025-07-24T01:03:37.537852Z"
    },
    "ExecuteTime": {
     "end_time": "2025-07-24T03:36:26.333882Z",
     "start_time": "2025-07-24T03:36:26.301950Z"
    }
   },
   "source": [
    "X_train, X_val, y_train, y_val = train_test_split(X, y, test_size=0.2, random_state=42)\n",
    "\n",
    "pipeline = Pipeline([\n",
    "    ('scaler', StandardScaler()),\n",
    "    ('clf', LogisticRegression(max_iter=100))\n",
    "])\n",
    "\n",
    "pipeline.fit(X_train, y_train)\n",
    "acc = pipeline.score(X_val, y_val)\n",
    "print(f'Acurácia de validação: {acc:.2f}')"
   ],
   "outputs": [
    {
     "name": "stdout",
     "output_type": "stream",
     "text": [
      "Acurácia de validação: 0.90\n"
     ]
    }
   ],
   "execution_count": 48
  },
  {
   "cell_type": "markdown",
   "id": "6095939f",
   "metadata": {},
   "source": [
    "## 3. Salvando o Modelo"
   ]
  },
  {
   "cell_type": "code",
   "id": "96b5b168",
   "metadata": {
    "execution": {
     "iopub.execute_input": "2025-07-24T01:03:37.541252Z",
     "iopub.status.busy": "2025-07-24T01:03:37.541063Z",
     "iopub.status.idle": "2025-07-24T01:03:37.546831Z",
     "shell.execute_reply": "2025-07-24T01:03:37.546327Z"
    },
    "ExecuteTime": {
     "end_time": "2025-07-24T03:36:26.425253Z",
     "start_time": "2025-07-24T03:36:26.420253Z"
    }
   },
   "source": [
    "joblib.dump(pipeline, MODEL_PATH)\n",
    "print('Modelo salvo em', MODEL_PATH)"
   ],
   "outputs": [
    {
     "name": "stdout",
     "output_type": "stream",
     "text": [
      "Modelo salvo em ..\\model.joblib\n"
     ]
    }
   ],
   "execution_count": 49
  },
  {
   "metadata": {},
   "cell_type": "code",
   "outputs": [],
   "execution_count": null,
   "source": "",
   "id": "a7c3df0026a94de5"
  }
 ],
 "metadata": {
  "kernelspec": {
   "display_name": "Python 3",
   "language": "python",
   "name": "python3"
  },
  "language_info": {
   "codemirror_mode": {
    "name": "ipython",
    "version": 3
   },
   "file_extension": ".py",
   "mimetype": "text/x-python",
   "name": "python",
   "nbconvert_exporter": "python",
   "pygments_lexer": "ipython3",
   "version": "3.12.10"
  }
 },
 "nbformat": 4,
 "nbformat_minor": 5
}
